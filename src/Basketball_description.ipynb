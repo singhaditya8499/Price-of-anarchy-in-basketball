{
 "cells": [
  {
   "cell_type": "markdown",
   "id": "1a81ce19",
   "metadata": {},
   "source": [
    "## What is basketball?\n",
    "\n",
    "Basketball is a sport played by two teams of five players each, where the objective is to shoot a ball through a hoop mounted 10 feet high on a backboard at either end of a rectangular court. The team with the most points at the end of the game, which is typically divided into four quarters, wins. Points are scored by shooting the ball through the hoop, with a shot made from within the three-point line counting as two points and a shot made from beyond the three-point line counting as three points. Players move the ball by passing it to their teammates or dribbling it, which involves bouncing the ball on the floor while moving. Basketball is a popular sport played at amateur and professional levels all around the world."
   ]
  },
  {
   "cell_type": "markdown",
   "id": "fc57cb5e",
   "metadata": {},
   "source": [
    "## Different positions in basketball"
   ]
  },
  {
   "cell_type": "markdown",
   "id": "6eda2764",
   "metadata": {},
   "source": [
    "<img src='../assets/OIP.jpeg' width=\"400\" height=\"400\">"
   ]
  },
  {
   "cell_type": "markdown",
   "id": "36e43375",
   "metadata": {},
   "source": [
    "There are total of 5 different positions as can be seen in the above picture. The five positions can be described as:\n",
    "\n",
    "1. **Point Guard:** The point guard is typically the team's primary ball-handler and playmaker. They are responsible for bringing the ball up the court, setting up plays, and distributing the ball to their teammates. Point guards are often quick, agile, and have good passing skills. They are also expected to be strong defenders, as they need to be able to stay in front of their opponent and prevent them from getting to the basket.\n",
    "\n",
    "\n",
    "2. **Shooting Guard:** The shooting guard is usually the team's best scorer and perimeter shooter. They often play off the ball, meaning they don't handle the ball as much as the point guard, but they need to be ready to catch and shoot quickly when the ball comes their way. Shooting guards are typically tall and athletic, with good shooting and driving abilities. They also need to be good defenders to stop the other team's shooting guard from scoring.\n",
    "\n",
    "\n",
    "3. **Small Forward:** The small forward is usually a versatile player who can play both inside and outside. They often have a mix of shooting, ball-handling, and passing skills, and are expected to be able to score from different areas on the court. Small forwards are often athletic and versatile players who can defend multiple positions.\n",
    "\n",
    "\n",
    "4. **Power Forward:** The power forward is usually a strong, physical player who plays inside and outside. They often have a mix of size, strength, and agility, and are expected to be able to score from both the perimeter and the post. Power forwards are often the team's best rebounders, and they need to be able to defend against bigger players in the post.\n",
    "\n",
    "\n",
    "5. **Center:** The center is typically the tallest player on the team and is responsible for playing in the post, both on offense and defense. Centers are expected to be strong rebounders and shot-blockers, and they often score by playing close to the basket. Centers are usually less mobile than other players on the court, but they make up for it with their size and strength."
   ]
  },
  {
   "cell_type": "markdown",
   "id": "5c44dc39",
   "metadata": {},
   "source": [
    "## Different ways to score"
   ]
  },
  {
   "cell_type": "markdown",
   "id": "cfa5ff6d",
   "metadata": {},
   "source": [
    "There are several ways to score points in basketball. Here are the most common ones:\n",
    "\n",
    "\n",
    "1. **Field Goal:** A field goal is scored when a player shoots the ball through the hoop. If the shot is made from inside the three-point line, it counts as two points. If the shot is made from beyond the three-point line, it counts as three points.\n",
    "\n",
    "\n",
    "2. **Free Throw:** A free throw is awarded to a player who has been fouled by an opponent. The player gets to shoot one or two free throws, depending on the type of foul. If the shot is made, the player scores one point.\n",
    "\n",
    "\n",
    "3. **Layup:** A layup is a shot taken close to the basket, usually with one hand. It is a high-percentage shot and often used when a player is driving to the basket.\n",
    "\n",
    "\n",
    "4. **Dunk:** A dunk is when a player jumps and slams the ball through the hoop with one or two hands. It is an impressive way to score points, and it often requires a lot of athleticism.\n",
    "\n",
    "\n",
    "5. **Tip-in:** A tip-in is when a player tips the ball into the basket with their hand while it is still in the air. It is often used when a player is close to the basket and can't make a clean shot.\n",
    "\n",
    "\n",
    "6. **Three-point Shot:** A three-point shot is a field goal made from beyond the three-point line. It counts as three points and is often used as a way to catch up or extend a lead in a game.\n",
    "\n",
    "\n",
    "7. **Four-point Play:** A four-point play occurs when a player makes a three-point shot while being fouled by an opponent. The player gets to shoot a free throw and can score a total of four points on the play.\n",
    "\n",
    "\n",
    "These are the most common ways to score points in basketball, but there are other ways to score as well, such as alley-oops, fadeaways, and hook shots."
   ]
  },
  {
   "cell_type": "markdown",
   "id": "5ecd460b",
   "metadata": {},
   "source": [
    "## Why are players motivated to perform well in basketball?"
   ]
  },
  {
   "cell_type": "markdown",
   "id": "13b976e4",
   "metadata": {},
   "source": [
    "Basketball players are motivated to perform well for several reasons, including:\n",
    "\n",
    "1. **Passion for the game:** Many basketball players have a deep passion for the sport and enjoy playing it. They are motivated to perform well because they love the game and want to do their best.\n",
    "\n",
    "\n",
    "2. **Team success:** Basketball is a team sport, and players are motivated to perform well to help their team win. They understand that their individual performance can impact the team's success, and they want to contribute as much as possible to help their team achieve its goals.\n",
    "\n",
    "\n",
    "3. **Personal achievement:** Basketball players are often motivated by personal goals and achievements, such as scoring a certain number of points in a game, making the All-Star team, or earning a college scholarship. They want to improve their skills and achieve these milestones to feel a sense of accomplishment.\n",
    "\n",
    "\n",
    "4. **Recognition and rewards:** Good performance on the basketball court can lead to recognition from fans, coaches, and the media, as well as opportunities for endorsements and financial rewards. Players are often motivated to perform well to earn these rewards and establish a successful career in basketball.\n",
    "\n",
    "\n",
    "5. **Competition:** Basketball is a competitive sport, and players are often motivated by the challenge of competing against other talented athletes. They want to prove themselves and show that they are capable of performing at a high level under pressure.\n",
    "\n",
    "Overall, basketball players are motivated to perform well for a variety of reasons, including their love for the game, team success, personal achievement, recognition and rewards, and the thrill of competition."
   ]
  },
  {
   "cell_type": "markdown",
   "id": "14753f6b",
   "metadata": {},
   "source": [
    "## Is there a pattern where players are motivated for individual accomplishments rather than team objective?"
   ]
  },
  {
   "cell_type": "markdown",
   "id": "c2d75fe9",
   "metadata": {},
   "source": [
    "While everyone says that basketball is a team game, but we have seen scenarios in past where players are more motivated for individual awards rather than fulfilling team's objective. \n",
    "\n",
    "1. Consider a situation where a player is in their last season of contract, they will be more motivated to show their individual talents to get a new contract from new teams.\n",
    "\n",
    "2. Players who play in relatively not so popular teams, they might dream of playing in some crowd popular team. They might prefer to showcase their individual talent rather than doing what is best from the team's perpective.\n",
    "\n",
    "There can be several other reasons which might need further research into the area."
   ]
  },
  {
   "cell_type": "markdown",
   "id": "48d35aa8",
   "metadata": {},
   "source": [
    "## Different models to maximise the team's overall score"
   ]
  },
  {
   "cell_type": "markdown",
   "id": "79f4eb8d",
   "metadata": {},
   "source": [
    "We have currently identified various models which a team can use to maximise the score. We will now discuss few of those models.\n",
    "\n",
    "#### 1. Players playing to maximise their contribution to score\n",
    "\n",
    "When each player is playing to maximise their contribution to the overall score, we will reach an equilibrium where every player is contributing equally to the overall score. This can be termed as nash equilibrium as no player will have any incentive in moving away from the strategy. We have found a regression relation between the players accuracy against the percent of team shots they take. This function when multiplied with the total % of shots taken gives us the players contribution which we shall see in detail later. \n",
    "\n",
    "#### 2. Players taking equal percentage of shots\n",
    "\n",
    "One of the strategy each player can take is to equal percentage of shots, i.e. each takes 20% of overall shots. We will look that this doesn't maximise the overall utility one can achieve.\n",
    "\n",
    "#### 3. Majority of shots is taken by the player with highest accuracy at the begining of the game\n",
    "\n",
    "There will be a player who got the highest accuracy before the begining of the game. It can another strategy where the ball is passed to the that player. They will take majority portion of the overall shots. We will look that this is not the best strategy."
   ]
  },
  {
   "cell_type": "code",
   "execution_count": null,
   "id": "2d36ae1c",
   "metadata": {},
   "outputs": [],
   "source": []
  }
 ],
 "metadata": {
  "kernelspec": {
   "display_name": "Python 3 (ipykernel)",
   "language": "python",
   "name": "python3"
  },
  "language_info": {
   "codemirror_mode": {
    "name": "ipython",
    "version": 3
   },
   "file_extension": ".py",
   "mimetype": "text/x-python",
   "name": "python",
   "nbconvert_exporter": "python",
   "pygments_lexer": "ipython3",
   "version": "3.9.7"
  }
 },
 "nbformat": 4,
 "nbformat_minor": 5
}
